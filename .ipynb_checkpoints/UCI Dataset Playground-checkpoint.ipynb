{
 "cells": [
  {
   "cell_type": "markdown",
   "metadata": {},
   "source": [
    "# FMA: A Dataset For Music Analysis\n",
    "Michaël Defferrard, Kirell Benzi, Pierre Vandergheynst, Xavier Bresson  \n",
    "_(Submitted on 6 Dec 2016 (v1), last revised 5 Sep 2017 (this version, v3))_\n",
    "  \n",
    "    We introduce the Free Music Archive (FMA), an open and easily accessible dataset suitable for evaluating \n",
    "    several tasks in MIR, a field concerned with browsing, searching, and organizing large music collections. \n",
    "    The community's growing interest in feature and end-to-end learning is however restrained by the limited\n",
    "    availability of large audio datasets. The FMA aims to overcome this hurdle by providing 917 GiB and 343 \n",
    "    days of Creative Commons-licensed audio from 106,574 tracks from 16,341 artists and 14,854 albums, arranged \n",
    "    in a hierarchical taxonomy of 161 genres. It provides full-length and high-quality audio, pre-computed \n",
    "    features, together with track- and user-level metadata, tags, and free-form text such as biographies. \n",
    "    We here describe the dataset and how it was created, propose a train/validation/test split and three subsets, \n",
    "    discuss some suitable MIR tasks, and evaluate some baselines for genre recognition. \n",
    "    Code, data, and usage examples are available at the Github url below.\n",
    "\n",
    "### [Github resository](https://github.com/mdeff/fma),  [Academic Paper](https://arxiv.org/pdf/1612.01840.pdf)"
   ]
  },
  {
   "cell_type": "code",
   "execution_count": null,
   "metadata": {},
   "outputs": [],
   "source": []
  }
 ],
 "metadata": {
  "kernelspec": {
   "display_name": "Python 3",
   "language": "python",
   "name": "python3"
  },
  "language_info": {
   "codemirror_mode": {
    "name": "ipython",
    "version": 3
   },
   "file_extension": ".py",
   "mimetype": "text/x-python",
   "name": "python",
   "nbconvert_exporter": "python",
   "pygments_lexer": "ipython3",
   "version": "3.6.8"
  }
 },
 "nbformat": 4,
 "nbformat_minor": 2
}
