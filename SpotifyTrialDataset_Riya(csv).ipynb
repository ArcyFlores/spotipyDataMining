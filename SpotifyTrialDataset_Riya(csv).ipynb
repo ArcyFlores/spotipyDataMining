{
 "cells": [
  {
   "cell_type": "markdown",
   "metadata": {},
   "source": [
    "# Spotipy - Trial Dataset (Arcy/Megan/Riya)\n",
    "\n",
    "[**Spotipy**](https://spotipy.readthedocs.io/en/latest/) is a lightweight Python library for the [**Spotify Web API**](https://developer.spotify.com/documentation/web-api/).    \n",
    "  \n",
    "With Spotipy you get full access to all of the music data provided by the Spotify platform. \n",
    "  \n",
    "Spotify sample API path: https://open.spotify.com/user/12156070492/playlist/37i9dQZF1DXcuAuT2c9ULm  \n",
    "\n",
    "Resources:  \n",
    "https://towardsdatascience.com/making-your-own-discover-weekly-f1ac7546fedb  \n",
    "https://tgel0.github.io/blog/spotify-data-project-part-1-from-data-retrieval-to-first-insights/  \n",
    "https://medium.com/deep-learning-turkey/build-your-own-spotify-playlist-of-best-playlist-recommendations-fc9ebe92826a   \n",
    "https://opendatascience.com/a-machine-learning-deep-dive-into-my-spotify-data/  \n",
    "https://www.youtube.com/watch?v=v_sPnwoT_iA"
   ]
  },
  {
   "cell_type": "code",
   "execution_count": 2,
   "metadata": {
    "scrolled": true
   },
   "outputs": [],
   "source": [
    "import pandas as pd #Dataframe, Series\n",
    "import numpy as np\n",
    "\n",
    "from sklearn import tree\n",
    "from sklearn.tree import DecisionTreeClassifier\n",
    "from sklearn.model_selection import train_test_split\n",
    "\n",
    "from matplotlib import pyplot as plt\n",
    "import seaborn as sns\n",
    "\n",
    "import graphviz\n",
    "import pydotplus\n",
    "import io\n",
    "\n",
    "from scipy import misc\n",
    "\n",
    "from sklearn.metrics import accuracy_score\n",
    "\n",
    "import spotipy\n",
    "import spotipy.util as util\n",
    "sp = spotipy.Spotify() \n",
    "from spotipy.oauth2 import SpotifyClientCredentials \n",
    "\n",
    "%matplotlib inline"
   ]
  },
  {
   "cell_type": "markdown",
   "metadata": {},
   "source": [
    "# Spotify Login\n",
    "\n",
    "- Once you run this it will redirect you to another page, copy the url and paste it into the dialog box that will pop up below.\n",
    "- If you get a bad request the first time and you logged in, just run it again and use the new link"
   ]
  },
  {
   "cell_type": "code",
   "execution_count": 39,
   "metadata": {},
   "outputs": [
    {
     "name": "stdout",
     "output_type": "stream",
     "text": [
      "env: SPOTIPY_CLIENT_ID=a01853bd1d1649f0abf9ccb522657be1\n",
      "env: SPOTIPY_CLIENT_SECRET=8dd4620bf4a04f2d8db5c7b16e7b77e1\n",
      "env: SPOTIPY_REDIRECT_URI=https://developer.spotify.com/dashboard/applications/a01853bd1d1649f0abf9ccb522657be1\n"
     ]
    }
   ],
   "source": [
    "%env SPOTIPY_CLIENT_ID=a01853bd1d1649f0abf9ccb522657be1\n",
    "%env SPOTIPY_CLIENT_SECRET=8dd4620bf4a04f2d8db5c7b16e7b77e1\n",
    "%env SPOTIPY_REDIRECT_URI=https://developer.spotify.com/dashboard/applications/a01853bd1d1649f0abf9ccb522657be1"
   ]
  },
  {
   "cell_type": "code",
   "execution_count": 40,
   "metadata": {
    "scrolled": true
   },
   "outputs": [
    {
     "name": "stdout",
     "output_type": "stream",
     "text": [
      "\n",
      "\n",
      "            User authentication requires interaction with your\n",
      "            web browser. Once you enter your credentials and\n",
      "            give authorization, you will be redirected to\n",
      "            a url.  Paste that url you were directed to to\n",
      "            complete the authorization.\n",
      "\n",
      "        \n",
      "Opened https://accounts.spotify.com/authorize?client_id=a01853bd1d1649f0abf9ccb522657be1&response_type=code&redirect_uri=https%3A%2F%2Fdeveloper.spotify.com%2Fdashboard%2Fapplications%2Fa01853bd1d1649f0abf9ccb522657be1&scope=playlist-read-private+user-library-read in your browser\n",
      "\n",
      "\n",
      "Enter the URL you were redirected to: https://developer.spotify.com/dashboard/?code=AQDF2V-WvddQJPa1ZkIxc2vUcxKqnadWnLk6s1wdJT8vm4cS5n79ZFBWxBRsaG9dxEfNMl_gyUWa7eTYQ5LiUQg4dbY__Juy0e5wFFmZMkXhlpEqfeocm6i_NEH91_XKcqpFcxFucN4vww1uXjtLuceBCwyy9YXfKFUCRKnxSrz4QMeRFr8Hb5oXMZoZw5Cjx97gdE6jACgoAJOLyXaBPkU804Re9XZWRDQ2p6-AaTztGvv2ugx_m83gPGZkhJEVPd4U-2Ys8kIKIxDagPDO8I99htSDv7rCxyZNwsa2lgDZCmapqHCHxuAYJGYPV0DVwVTr7sw2wQ#!\n",
      "\n",
      "\n"
     ]
    },
    {
     "ename": "SpotifyOauthError",
     "evalue": "Bad Request",
     "output_type": "error",
     "traceback": [
      "\u001b[1;31m---------------------------------------------------------------------------\u001b[0m",
      "\u001b[1;31mSpotifyOauthError\u001b[0m                         Traceback (most recent call last)",
      "\u001b[1;32m<ipython-input-40-967e91046d2c>\u001b[0m in \u001b[0;36m<module>\u001b[1;34m\u001b[0m\n\u001b[0;32m     14\u001b[0m \u001b[1;33m\u001b[0m\u001b[0m\n\u001b[0;32m     15\u001b[0m \u001b[0mscope\u001b[0m \u001b[1;33m=\u001b[0m \u001b[1;34m'user-library-read playlist-read-private'\u001b[0m\u001b[1;33m\u001b[0m\u001b[0m\n\u001b[1;32m---> 16\u001b[1;33m \u001b[0mtoken\u001b[0m \u001b[1;33m=\u001b[0m \u001b[0mutil\u001b[0m\u001b[1;33m.\u001b[0m\u001b[0mprompt_for_user_token\u001b[0m\u001b[1;33m(\u001b[0m\u001b[0musername\u001b[0m\u001b[1;33m,\u001b[0m \u001b[0mscope\u001b[0m\u001b[1;33m)\u001b[0m\u001b[1;33m\u001b[0m\u001b[0m\n\u001b[0m\u001b[0;32m     17\u001b[0m \u001b[1;33m\u001b[0m\u001b[0m\n\u001b[0;32m     18\u001b[0m \u001b[1;32mif\u001b[0m \u001b[0mtoken\u001b[0m\u001b[1;33m:\u001b[0m\u001b[1;33m\u001b[0m\u001b[0m\n",
      "\u001b[1;32mC:\\Users\\ruj79\\Anaconda3\\lib\\site-packages\\spotipy\\util.py\u001b[0m in \u001b[0;36mprompt_for_user_token\u001b[1;34m(username, scope, client_id, client_secret, redirect_uri)\u001b[0m\n\u001b[0;32m     84\u001b[0m \u001b[1;33m\u001b[0m\u001b[0m\n\u001b[0;32m     85\u001b[0m         \u001b[0mcode\u001b[0m \u001b[1;33m=\u001b[0m \u001b[0msp_oauth\u001b[0m\u001b[1;33m.\u001b[0m\u001b[0mparse_response_code\u001b[0m\u001b[1;33m(\u001b[0m\u001b[0mresponse\u001b[0m\u001b[1;33m)\u001b[0m\u001b[1;33m\u001b[0m\u001b[0m\n\u001b[1;32m---> 86\u001b[1;33m         \u001b[0mtoken_info\u001b[0m \u001b[1;33m=\u001b[0m \u001b[0msp_oauth\u001b[0m\u001b[1;33m.\u001b[0m\u001b[0mget_access_token\u001b[0m\u001b[1;33m(\u001b[0m\u001b[0mcode\u001b[0m\u001b[1;33m)\u001b[0m\u001b[1;33m\u001b[0m\u001b[0m\n\u001b[0m\u001b[0;32m     87\u001b[0m     \u001b[1;31m# Auth'ed API request\u001b[0m\u001b[1;33m\u001b[0m\u001b[1;33m\u001b[0m\u001b[0m\n\u001b[0;32m     88\u001b[0m     \u001b[1;32mif\u001b[0m \u001b[0mtoken_info\u001b[0m\u001b[1;33m:\u001b[0m\u001b[1;33m\u001b[0m\u001b[0m\n",
      "\u001b[1;32mC:\\Users\\ruj79\\Anaconda3\\lib\\site-packages\\spotipy\\oauth2.py\u001b[0m in \u001b[0;36mget_access_token\u001b[1;34m(self, code)\u001b[0m\n\u001b[0;32m    215\u001b[0m             headers=headers, verify=True, proxies=self.proxies)\n\u001b[0;32m    216\u001b[0m         \u001b[1;32mif\u001b[0m \u001b[0mresponse\u001b[0m\u001b[1;33m.\u001b[0m\u001b[0mstatus_code\u001b[0m \u001b[1;32mis\u001b[0m \u001b[1;32mnot\u001b[0m \u001b[1;36m200\u001b[0m\u001b[1;33m:\u001b[0m\u001b[1;33m\u001b[0m\u001b[0m\n\u001b[1;32m--> 217\u001b[1;33m             \u001b[1;32mraise\u001b[0m \u001b[0mSpotifyOauthError\u001b[0m\u001b[1;33m(\u001b[0m\u001b[0mresponse\u001b[0m\u001b[1;33m.\u001b[0m\u001b[0mreason\u001b[0m\u001b[1;33m)\u001b[0m\u001b[1;33m\u001b[0m\u001b[0m\n\u001b[0m\u001b[0;32m    218\u001b[0m         \u001b[0mtoken_info\u001b[0m \u001b[1;33m=\u001b[0m \u001b[0mresponse\u001b[0m\u001b[1;33m.\u001b[0m\u001b[0mjson\u001b[0m\u001b[1;33m(\u001b[0m\u001b[1;33m)\u001b[0m\u001b[1;33m\u001b[0m\u001b[0m\n\u001b[0;32m    219\u001b[0m         \u001b[0mtoken_info\u001b[0m \u001b[1;33m=\u001b[0m \u001b[0mself\u001b[0m\u001b[1;33m.\u001b[0m\u001b[0m_add_custom_values_to_token_info\u001b[0m\u001b[1;33m(\u001b[0m\u001b[0mtoken_info\u001b[0m\u001b[1;33m)\u001b[0m\u001b[1;33m\u001b[0m\u001b[0m\n",
      "\u001b[1;31mSpotifyOauthError\u001b[0m: Bad Request"
     ]
    }
   ],
   "source": [
    "import spotipy\n",
    "from spotipy.oauth2 import SpotifyClientCredentials\n",
    "\n",
    "# cid =\"3d0813412e904775be1e7513de6ac191\" \n",
    "# secret = \"2f2153031b704871991805855c7a8c52\"\n",
    "# username = \"oa66aggjdka7torff2helltk6\"\n",
    "\n",
    "cid =\"a01853bd1d1649f0abf9ccb522657be1\" \n",
    "secret = \"8dd4620bf4a04f2d8db5c7b16e7b77e1\"\n",
    "username = \"\"\n",
    "\n",
    "client_credentials_manager = SpotifyClientCredentials(client_id=cid, client_secret=secret)\n",
    "sp = spotipy.Spotify(client_credentials_manager=client_credentials_manager)\n",
    "\n",
    "scope = 'user-library-read playlist-read-private'\n",
    "token = util.prompt_for_user_token(username, scope)\n",
    "\n",
    "if token:\n",
    "    sp = spotipy.Spotify(auth=token)\n",
    "else:\n",
    "    print(\"Can't get token for\", username)"
   ]
  },
  {
   "cell_type": "markdown",
   "metadata": {},
   "source": [
    "# Input Data to the Model\n",
    "- You need to include the user you want to get the playlist from as well as the playlist id's of your good and bad playlists.\n",
    "- To do this go to your good and bad playlists and copy the links.\n",
    "    - An example spotify link: https://open.spotify.com/user/1287242681/playlist/5OdH7PmotfAO7qDGxKdw3J\n",
    "    - The user is the number after user/ and the playlist id is after the playlist/.\n",
    "\n",
    "- The method signature is sp.user_playlist('user', 'playlist_id')"
   ]
  },
  {
   "cell_type": "code",
   "execution_count": 41,
   "metadata": {
    "collapsed": true
   },
   "outputs": [],
   "source": [
    "# # good_playlist = sp.user_playlist(\"1287242681\", \"5OdH7PmotfAO7qDGxKdw3J\")\n",
    "# # bad_playlist = sp.user_playlist(\"1287242681\", \"3ySDAXYGUwRrp8C4ejIm9m\")\n",
    "\n",
    "good_playlist = sp.user_playlist(\"oa66aggjdka7torff2helltk6\", \"1rArXwbIyQvU31gzc5XHHY?si=6oQTTUWTQ4-xizaDju06ug\")\n",
    "bad_playlist = sp.user_playlist(\"oa66aggjdka7torff2helltk6\", \"13bLJeS4U2Drj8SCcwAH24?si=1-aMqHL4ST69DJL1Ho6ZwA\")"
   ]
  },
  {
   "cell_type": "code",
   "execution_count": 42,
   "metadata": {},
   "outputs": [
    {
     "name": "stdout",
     "output_type": "stream",
     "text": [
      "743\n"
     ]
    }
   ],
   "source": [
    "#Get the good song id's out of the good playlists, need it for the audio features call.\n",
    "good_tracks = good_playlist[\"tracks\"]\n",
    "good_songs = good_tracks[\"items\"] \n",
    "while good_tracks['next']:\n",
    "    good_tracks = sp.next(good_tracks)\n",
    "    for item in good_tracks[\"items\"]:\n",
    "        good_songs.append(item)\n",
    "good_ids = [] \n",
    "print(len(good_songs))\n",
    "for i in range(len(good_songs)- 500):\n",
    "    good_ids.append(good_songs[i]['track']['id'])"
   ]
  },
  {
   "cell_type": "code",
   "execution_count": 43,
   "metadata": {},
   "outputs": [
    {
     "name": "stdout",
     "output_type": "stream",
     "text": [
      "373\n"
     ]
    }
   ],
   "source": [
    "#Now do the same thing for the bad playlist\n",
    "bad_tracks = bad_playlist[\"tracks\"]\n",
    "bad_songs = bad_tracks[\"items\"] \n",
    "while bad_tracks['next']:\n",
    "    bad_tracks = sp.next(bad_tracks)\n",
    "    for item in bad_tracks[\"items\"]:\n",
    "        bad_songs.append(item)\n",
    "bad_ids = [] \n",
    "print(len(bad_songs))\n",
    "for i in range(len(bad_songs)):\n",
    "    bad_ids.append(bad_songs[i]['track']['id'])"
   ]
  },
  {
   "cell_type": "code",
   "execution_count": 44,
   "metadata": {
    "collapsed": true,
    "scrolled": true
   },
   "outputs": [],
   "source": [
    "#Here is where we get all of the audio_features for the tracks on the good and bad playlists.\n",
    "features = []\n",
    "# inSavedTracks = []\n",
    "j = 0\n",
    "for i in range(0,len(good_ids),50):\n",
    "    audio_features = sp.audio_features(good_ids[i:i+50])\n",
    "    for track in audio_features:\n",
    "        features.append(track)\n",
    "        track = good_songs[j]\n",
    "        j= j+1\n",
    "        features[-1]['trackPopularity'] = track['track']['popularity']\n",
    "        features[-1]['artistPopularity'] = sp.artist(track['track']['artists'][0]['id'])['popularity']\n",
    "        features[-1]['target'] = 1\n",
    "j = 0\n",
    "for i in range(0,len(bad_ids),50):\n",
    "    audio_features = sp.audio_features(bad_ids[i:i+50])\n",
    "    for track in audio_features:\n",
    "        features.append(track)\n",
    "        track = good_songs[j]\n",
    "        j= j+1\n",
    "        features[-1]['trackPopularity'] = track['track']['popularity']\n",
    "        features[-1]['artistPopularity'] = sp.artist(track['track']['artists'][0]['id'])['popularity']\n",
    "        features[-1]['target'] = 0"
   ]
  },
  {
   "cell_type": "markdown",
   "metadata": {},
   "source": [
    "# Model Training and Data Modeling\n",
    "- Now that we have the data on what songs you like and don't like let's visualize some of that info."
   ]
  },
  {
   "cell_type": "code",
   "execution_count": 1,
   "metadata": {
    "scrolled": true
   },
   "outputs": [
    {
     "ename": "NameError",
     "evalue": "name 'pd' is not defined",
     "output_type": "error",
     "traceback": [
      "\u001b[0;31m---------------------------------------------------------------------------\u001b[0m",
      "\u001b[0;31mNameError\u001b[0m                                 Traceback (most recent call last)",
      "\u001b[0;32m<ipython-input-1-95deda2dce18>\u001b[0m in \u001b[0;36m<module>\u001b[0;34m\u001b[0m\n\u001b[0;32m----> 1\u001b[0;31m \u001b[0mdf\u001b[0m \u001b[0;34m=\u001b[0m \u001b[0mpd\u001b[0m\u001b[0;34m.\u001b[0m\u001b[0mDataFrame\u001b[0m\u001b[0;34m(\u001b[0m\u001b[0mfeatures\u001b[0m\u001b[0;34m)\u001b[0m\u001b[0;34m\u001b[0m\u001b[0;34m\u001b[0m\u001b[0m\n\u001b[0m\u001b[1;32m      2\u001b[0m \u001b[0mfilename\u001b[0m \u001b[0;34m=\u001b[0m \u001b[0;34m'riyaSpotify.csv'\u001b[0m\u001b[0;34m\u001b[0m\u001b[0;34m\u001b[0m\u001b[0m\n\u001b[1;32m      3\u001b[0m \u001b[0mdf\u001b[0m\u001b[0;34m.\u001b[0m\u001b[0mto_csv\u001b[0m\u001b[0;34m(\u001b[0m\u001b[0mfilename\u001b[0m\u001b[0;34m,\u001b[0m \u001b[0mindex\u001b[0m\u001b[0;34m=\u001b[0m\u001b[0;32mFalse\u001b[0m\u001b[0;34m,\u001b[0m \u001b[0mencoding\u001b[0m\u001b[0;34m=\u001b[0m\u001b[0;34m'utf-8'\u001b[0m\u001b[0;34m)\u001b[0m\u001b[0;34m\u001b[0m\u001b[0;34m\u001b[0m\u001b[0m\n\u001b[1;32m      4\u001b[0m \u001b[0mtrainingData\u001b[0m \u001b[0;34m=\u001b[0m \u001b[0mpd\u001b[0m\u001b[0;34m.\u001b[0m\u001b[0mread_csv\u001b[0m\u001b[0;34m(\u001b[0m\u001b[0;34m\"riyaSpotify.csv\"\u001b[0m\u001b[0;34m)\u001b[0m\u001b[0;34m\u001b[0m\u001b[0;34m\u001b[0m\u001b[0m\n\u001b[1;32m      5\u001b[0m \u001b[0mtrainingData\u001b[0m\u001b[0;34m.\u001b[0m\u001b[0mhead\u001b[0m\u001b[0;34m(\u001b[0m\u001b[0;34m)\u001b[0m\u001b[0;34m\u001b[0m\u001b[0;34m\u001b[0m\u001b[0m\n",
      "\u001b[0;31mNameError\u001b[0m: name 'pd' is not defined"
     ]
    }
   ],
   "source": [
    "df = pd.DataFrame(features)\n",
    "filename = 'riyaSpotify.csv'\n",
    "df.to_csv(filename, index=False, encoding='utf-8')\n",
    "trainingData = pd.read_csv(\"riyaSpotify.csv\")\n",
    "trainingData.head()"
   ]
  },
  {
   "cell_type": "markdown",
   "metadata": {},
   "source": [
    "- In training this classifier, we need so split our data into training and testing data so our classifier has things to train on and then test if it is right"
   ]
  },
  {
   "cell_type": "code",
   "execution_count": 47,
   "metadata": {
    "scrolled": true
   },
   "outputs": [
    {
     "name": "stdout",
     "output_type": "stream",
     "text": [
      "Training size: 523, Test size: 93\n"
     ]
    }
   ],
   "source": [
    "train, test = train_test_split(trainingData, test_size = 0.15)\n",
    "print(\"Training size: {}, Test size: {}\".format(len(train),len(test)))"
   ]
  },
  {
   "cell_type": "code",
   "execution_count": 48,
   "metadata": {
    "collapsed": true
   },
   "outputs": [],
   "source": [
    "# Custom Color Palette for graphs\n",
    "red_blue = ['#19B5FE', '#EF4836']\n",
    "palette = sns.color_palette(red_blue)\n",
    "sns.set_palette(palette)\n",
    "sns.set_style('white')"
   ]
  },
  {
   "cell_type": "markdown",
   "metadata": {},
   "source": [
    "# Graphs!!!!!!!"
   ]
  },
  {
   "cell_type": "markdown",
   "metadata": {},
   "source": [
    "1) First, break out all of the data into positive and negative categories for all the features we want to compare\n",
    "\n",
    "Also, I know there has to be a better way of doing this, but copy paste is my friend. :)"
   ]
  },
  {
   "cell_type": "code",
   "execution_count": 49,
   "metadata": {},
   "outputs": [],
   "source": [
    "pos_tempo = trainingData[trainingData['target'] == 1]['tempo']\n",
    "neg_tempo = trainingData[trainingData['target'] == 0]['tempo']\n",
    "pos_dance = trainingData[trainingData['target'] == 1]['danceability']\n",
    "neg_dance = trainingData[trainingData['target'] == 0]['danceability']\n",
    "pos_duration = trainingData[trainingData['target'] == 1]['duration_ms']\n",
    "neg_duration = trainingData[trainingData['target'] == 0]['duration_ms']\n",
    "pos_loudness = trainingData[trainingData['target'] == 1]['loudness']\n",
    "neg_loudness = trainingData[trainingData['target'] == 0]['loudness']\n",
    "pos_speechiness = trainingData[trainingData['target'] == 1]['speechiness']\n",
    "neg_speechiness = trainingData[trainingData['target'] == 0]['speechiness']\n",
    "pos_valence = trainingData[trainingData['target'] == 1]['valence']\n",
    "neg_valence = trainingData[trainingData['target'] == 0]['valence']\n",
    "pos_energy = trainingData[trainingData['target'] == 1]['energy']\n",
    "neg_energy = trainingData[trainingData['target'] == 0]['energy']\n",
    "pos_acousticness = trainingData[trainingData['target'] == 1]['acousticness']\n",
    "neg_acousticness = trainingData[trainingData['target'] == 0]['acousticness']\n",
    "pos_key = trainingData[trainingData['target'] == 1]['key']\n",
    "neg_key = trainingData[trainingData['target'] == 0]['key']\n",
    "pos_instrumentalness = trainingData[trainingData['target'] == 1]['instrumentalness']\n",
    "neg_instrumentalness = trainingData[trainingData['target'] == 0]['instrumentalness']\n",
    "pos_popularity = trainingData[trainingData['target'] == 1]['trackPopularity']\n",
    "neg_popularity = trainingData[trainingData['target'] == 0]['trackPopularity']"
   ]
  },
  {
   "cell_type": "code",
   "execution_count": 50,
   "metadata": {},
   "outputs": [
    {
     "name": "stdout",
     "output_type": "stream",
     "text": [
      "0      63\n",
      "1      69\n",
      "2      67\n",
      "3      64\n",
      "4      24\n",
      "5      47\n",
      "6      68\n",
      "7      14\n",
      "8      63\n",
      "9      62\n",
      "10     55\n",
      "11     41\n",
      "12     24\n",
      "13     69\n",
      "14     56\n",
      "15     54\n",
      "16     17\n",
      "17     45\n",
      "18     28\n",
      "19     56\n",
      "20     63\n",
      "21     44\n",
      "22     55\n",
      "23     17\n",
      "24     71\n",
      "25     62\n",
      "26     58\n",
      "27     56\n",
      "28     13\n",
      "29     52\n",
      "       ..\n",
      "213    69\n",
      "214    65\n",
      "215    64\n",
      "216    22\n",
      "217    55\n",
      "218    25\n",
      "219    75\n",
      "220     1\n",
      "221    78\n",
      "222     0\n",
      "223    39\n",
      "224    41\n",
      "225    55\n",
      "226    42\n",
      "227    61\n",
      "228    73\n",
      "229    60\n",
      "230    70\n",
      "231    16\n",
      "232    51\n",
      "233    71\n",
      "234    26\n",
      "235    57\n",
      "236    56\n",
      "237    70\n",
      "238    46\n",
      "239    54\n",
      "240     7\n",
      "241     0\n",
      "242    37\n",
      "Name: trackPopularity, Length: 243, dtype: int64\n",
      "243    63\n",
      "244    69\n",
      "245    67\n",
      "246    64\n",
      "247    24\n",
      "248    47\n",
      "249    68\n",
      "250    14\n",
      "251    63\n",
      "252    62\n",
      "253    55\n",
      "254    41\n",
      "255    24\n",
      "256    69\n",
      "257    56\n",
      "258    54\n",
      "259    17\n",
      "260    45\n",
      "261    28\n",
      "262    56\n",
      "263    63\n",
      "264    44\n",
      "265    55\n",
      "266    17\n",
      "267    71\n",
      "268    62\n",
      "269    58\n",
      "270    56\n",
      "271    13\n",
      "272    52\n",
      "       ..\n",
      "586    49\n",
      "587    75\n",
      "588    65\n",
      "589    60\n",
      "590    60\n",
      "591    67\n",
      "592    59\n",
      "593    57\n",
      "594    48\n",
      "595    62\n",
      "596    40\n",
      "597    49\n",
      "598    59\n",
      "599    46\n",
      "600    51\n",
      "601    43\n",
      "602    47\n",
      "603    72\n",
      "604    53\n",
      "605    82\n",
      "606    86\n",
      "607    69\n",
      "608     9\n",
      "609    69\n",
      "610    42\n",
      "611    70\n",
      "612    67\n",
      "613    46\n",
      "614    43\n",
      "615    77\n",
      "Name: trackPopularity, Length: 373, dtype: int64\n"
     ]
    }
   ],
   "source": [
    "print(pos_popularity)\n",
    "print(neg_popularity)"
   ]
  },
  {
   "cell_type": "code",
   "execution_count": 51,
   "metadata": {},
   "outputs": [
    {
     "data": {
      "text/plain": [
       "<matplotlib.legend.Legend at 0x1e533746a58>"
      ]
     },
     "execution_count": 51,
     "metadata": {},
     "output_type": "execute_result"
    },
    {
     "data": {
      "image/png": "[encoded data removed]",
      "text/plain": [
       "<Figure size 864x576 with 1 Axes>"
      ]
     },
     "metadata": {},
     "output_type": "display_data"
    }
   ],
   "source": [
    "fig = plt.figure(figsize=(12,8))\n",
    "plt.title(\"Song Tempo Like / Dislike Distribution\")\n",
    "pos_tempo.hist(alpha=0.7, bins=30, label='positive')\n",
    "neg_tempo.hist(alpha=0.7, bins=30, label='negative')\n",
    "plt.legend(loc='upper right')"
   ]
  },
  {
   "cell_type": "code",
   "execution_count": 52,
   "metadata": {},
   "outputs": [
    {
     "data": {
      "image/png": "[encoded data removed]",
      "text/plain": [
       "<Figure size 1080x1080 with 8 Axes>"
      ]
     },
     "metadata": {},
     "output_type": "display_data"
    }
   ],
   "source": [
    "fig2 = plt.figure(figsize=(15,15))\n",
    "\n",
    "#Danceability\n",
    "ax3 = fig2.add_subplot(331)\n",
    "ax3.set_xlabel('Danceability')\n",
    "ax3.set_ylabel('Songs')\n",
    "ax3.set_title('Danceability Distribution')\n",
    "pos_dance.hist(alpha= 0.7, bins=50, color='0.75')\n",
    "ax4 = fig2.add_subplot(331)\n",
    "neg_dance.hist(alpha= 0.3, bins=50, color='r')\n",
    "\n",
    "#Duration_ms\n",
    "ax5 = fig2.add_subplot(332)\n",
    "ax5.set_xlabel('Duration')\n",
    "ax5.set_ylabel('Songs')\n",
    "ax5.set_title('Duration Distribution')\n",
    "pos_duration.hist(alpha= 0.7, bins=50, color='0.75')\n",
    "ax6 = fig2.add_subplot(332)\n",
    "neg_duration.hist(alpha= 0.3, bins=50, color='r')\n",
    "\n",
    "#Loudness\n",
    "ax7 = fig2.add_subplot(333)\n",
    "ax7.set_xlabel('Loudness')\n",
    "ax7.set_ylabel('Songs')\n",
    "ax7.set_title('Loudness Distribution')\n",
    "pos_loudness.hist(alpha= 0.7, bins=50, color='0.75')\n",
    "ax8 = fig2.add_subplot(333)\n",
    "neg_loudness.hist(alpha= 0.3, bins=50, color='r')\n",
    "\n",
    "#Key\n",
    "ax9 = fig2.add_subplot(334)\n",
    "ax9.set_xlabel('Key')\n",
    "ax9.set_ylabel('Songs')\n",
    "ax9.set_title('Key Distribution')\n",
    "pos_key.hist(alpha= 0.7, bins=50, color='0.75')\n",
    "ax10 = fig2.add_subplot(334)\n",
    "neg_key.hist(alpha= 0.3, bins=50, color='r')\n",
    "\n",
    "#Valence\n",
    "ax11 = fig2.add_subplot(335)\n",
    "ax11.set_xlabel('Valence')\n",
    "ax11.set_ylabel('Songs')\n",
    "ax11.set_title('Valence Distribution')\n",
    "pos_valence.hist(alpha= 0.7, bins=50, color='0.75')\n",
    "ax12 = fig2.add_subplot(335)\n",
    "neg_valence.hist(alpha= 0.3, bins=50, color='r')\n",
    "\n",
    "#Energy\n",
    "ax13 = fig2.add_subplot(336)\n",
    "ax13.set_xlabel('Energy')\n",
    "ax13.set_ylabel('Songs')\n",
    "ax13.set_title('Energy Distribution')\n",
    "pos_energy.hist(alpha= 0.7, bins=50, color='0.75')\n",
    "ax14 = fig2.add_subplot(336)\n",
    "neg_energy.hist(alpha= 0.3, bins=50, color='r')\n",
    "\n",
    "#Speechiness\n",
    "ax15 = fig2.add_subplot(337)\n",
    "ax15.set_xlabel('Speechiness')\n",
    "ax15.set_ylabel('Songs')\n",
    "ax15.set_title('Speechiness Distribution')\n",
    "pos_speechiness.hist(alpha= 0.7, bins=50, color='0.75')\n",
    "ax16 = fig2.add_subplot(337)\n",
    "neg_speechiness.hist(alpha= 0.3, bins=50, color='r')\n",
    "\n",
    "#Popularity\n",
    "ax15 = fig2.add_subplot(338)\n",
    "ax15.set_xlabel('Popularity')\n",
    "ax15.set_ylabel('Songs')\n",
    "ax15.set_title('Popularity Distribution')\n",
    "pos_popularity.hist(alpha= 0.7, bins=50, color='0.75')\n",
    "ax16 = fig2.add_subplot(338)\n",
    "# neg_popularity.hist(alpha= 0.3, bins=50, color='r')"
   ]
  },
  {
   "cell_type": "code",
   "execution_count": 54,
   "metadata": {},
   "outputs": [
    {
     "data": {
      "text/plain": [
       "<seaborn.axisgrid.JointGrid at 0x1e534542518>"
      ]
     },
     "execution_count": 54,
     "metadata": {},
     "output_type": "execute_result"
    },
    {
     "data": {
      "image/png": "[encoded data removed]",
      "text/plain": [
       "<Figure size 936x936 with 3 Axes>"
      ]
     },
     "metadata": {},
     "output_type": "display_data"
    }
   ],
   "source": [
    "plt.rc(\"legend\", fontsize=35)\n",
    "#sns.jointplot(y=df['ENERGY'], x=df['LOUD'], kind=\"hex\", color=\"r\", size=13).set_axis_labels(\"Loudness\", \"Energy\", fontsize=35)\n",
    "#sns.jointplot(y=df['ENERGY'], x=df['ACOUSTIC'], kind=\"hex\", color=\"r\", size=13).set_axis_labels(\"Acousticness\", \"Energy\", fontsize=35)\n",
    "#sns.jointplot(y=df['DANCE'], x=df['VALENCE'], kind=\"hex\", color=\"r\", size=13).set_axis_labels(\"Valence (positive mood)\", \"Danceability\", fontsize=35)\n",
    "#sns.jointplot(y=df['ACOUSTIC'], x=df['LOUD'], kind=\"hex\", color=\"r\", size=13).set_axis_labels(\"Loudness\", \"Acousticness\", fontsize=35)\n",
    "#sns.jointplot(y=df['ENERGY'], x=df['VALENCE'], kind=\"hex\", color=\"r\", size=13).set_axis_labels(\"Valence (positive mood)\", \"Energy\", fontsize=35)\n",
    "#sns.jointplot(y=df['POP.'], x=df['ENERGY'], kind=\"hex\", color=\"r\", size=13).set_axis_labels(\"Energy\", \"Popularity\", fontsize=35)\n",
    "sns.jointplot(y=trainingData['acousticness'], x=trainingData['danceability'], kind=\"hex\", color=\"b\", height=13).set_axis_labels(\"Dance\", \"Acoustic\", fontsize=35)"
   ]
  },
  {
   "cell_type": "markdown",
   "metadata": {},
   "source": [
    "# Whew, now that we have graphs galore, lets actually get into some different classifiers and see how they preform!"
   ]
  },
  {
   "cell_type": "code",
   "execution_count": 55,
   "metadata": {
    "collapsed": true
   },
   "outputs": [],
   "source": [
    "#Define the set of features that we want to look at\n",
    "features = [\"danceability\", \"loudness\", \"valence\", \"energy\", \"instrumentalness\", \"acousticness\", \"key\", \"speechiness\",\"duration_ms\"]"
   ]
  },
  {
   "cell_type": "code",
   "execution_count": 56,
   "metadata": {
    "collapsed": true
   },
   "outputs": [],
   "source": [
    "#Split the data into x and y test and train sets to feed them into a bunch of classifiers!\n",
    "x_train = train[features]\n",
    "y_train = train[\"target\"]\n",
    "\n",
    "x_test = test[features]\n",
    "y_test = test[\"target\"]"
   ]
  },
  {
   "cell_type": "markdown",
   "metadata": {},
   "source": [
    "1) A Decision Tree Classifier\n",
    "- A decision tree classifier is often the easiest to visualize, so we will start with it first\n",
    "- All it is is pretty much a decision tree based off the features so you can trace the path down and visually see how it makes decisions. This is nice to visualize but it isn't all that good at predicting this data."
   ]
  },
  {
   "cell_type": "code",
   "execution_count": 57,
   "metadata": {
    "collapsed": true
   },
   "outputs": [],
   "source": [
    "c = DecisionTreeClassifier(min_samples_split=100)\n",
    "dt = c.fit(x_train, y_train)"
   ]
  },
  {
   "cell_type": "code",
   "execution_count": null,
   "metadata": {
    "scrolled": false
   },
   "outputs": [],
   "source": [
    "# def show_tree(InputTree, features, path):\n",
    "#     f = io.StringIO()\n",
    "#     tree.export_graphviz(InputTree, out_file=f, feature_names=features)\n",
    "#     pydotplus.graph_from_dot_data(f.getvalue()).write_png(path)\n",
    "#     img = misc.imread(path)\n",
    "#     plt.rcParams[\"figure.figsize\"] = (20,20)\n",
    "#     plt.imshow(img)\n",
    "# show_tree(dt, features, \"dec_tree.png\")"
   ]
  },
  {
   "cell_type": "markdown",
   "metadata": {},
   "source": [
    "This is how we will see how our different classifiers do, by predicting the results on the test data and then figuring out how well they did."
   ]
  },
  {
   "cell_type": "code",
   "execution_count": 58,
   "metadata": {},
   "outputs": [
    {
     "name": "stdout",
     "output_type": "stream",
     "text": [
      "Accuracy using Decision Tree:  95.7 %\n"
     ]
    }
   ],
   "source": [
    "y_pred = c.predict(x_test)\n",
    "score = accuracy_score(y_test, y_pred) * 100\n",
    "print(\"Accuracy using Decision Tree: \", round(score, 1), \"%\")"
   ]
  },
  {
   "cell_type": "markdown",
   "metadata": {},
   "source": [
    "# A Bunch More Classifier Models\n",
    "- There are some of these that take a bunch of time to finish, I wouldnt recommend running all them unless you are really intrested in the results"
   ]
  },
  {
   "cell_type": "markdown",
   "metadata": {},
   "source": [
    "## The ones that take less time"
   ]
  },
  {
   "cell_type": "code",
   "execution_count": 59,
   "metadata": {},
   "outputs": [
    {
     "name": "stdout",
     "output_type": "stream",
     "text": [
      "Accuracy using Knn Tree:  95.7 %\n"
     ]
    }
   ],
   "source": [
    "from sklearn.neighbors import KNeighborsClassifier\n",
    "knn = KNeighborsClassifier(3)\n",
    "knn.fit(x_train, y_train)\n",
    "knn_pred = c.predict(x_test)\n",
    "score = accuracy_score(y_test, knn_pred) * 100\n",
    "print(\"Accuracy using Knn Tree: \", round(score, 1), \"%\")"
   ]
  },
  {
   "cell_type": "code",
   "execution_count": 60,
   "metadata": {},
   "outputs": [
    {
     "name": "stdout",
     "output_type": "stream",
     "text": [
      "Accuracy using mlp Tree:  53.8 %\n"
     ]
    }
   ],
   "source": [
    "from sklearn.neural_network import MLPClassifier\n",
    "mlp = MLPClassifier()\n",
    "mlp.fit(x_train, y_train)\n",
    "mlp_pred = mlp.predict(x_test)\n",
    "score = accuracy_score(y_test, mlp_pred) * 100\n",
    "print(\"Accuracy using mlp Tree: \", round(score, 1), \"%\")"
   ]
  },
  {
   "cell_type": "code",
   "execution_count": 61,
   "metadata": {},
   "outputs": [
    {
     "name": "stdout",
     "output_type": "stream",
     "text": [
      "Accuracy using random forest:  95.7 %\n"
     ]
    }
   ],
   "source": [
    "from sklearn.ensemble import RandomForestClassifier\n",
    "forest = RandomForestClassifier(max_depth=5, n_estimators=10, max_features=1)\n",
    "forest.fit(x_train, y_train)\n",
    "forest_pred = forest.predict(x_test)\n",
    "from sklearn.metrics import accuracy_score\n",
    "score = accuracy_score(y_test, forest_pred) * 100\n",
    "print(\"Accuracy using random forest: \", round(score, 1), \"%\")"
   ]
  },
  {
   "cell_type": "code",
   "execution_count": 62,
   "metadata": {},
   "outputs": [
    {
     "name": "stdout",
     "output_type": "stream",
     "text": [
      "Accuracy using ada:  98.9 %\n"
     ]
    }
   ],
   "source": [
    "from sklearn.ensemble import AdaBoostClassifier\n",
    "ada = AdaBoostClassifier(n_estimators=100)\n",
    "ada.fit(x_train, y_train)\n",
    "ada_pred = ada.predict(x_test)\n",
    "from sklearn.metrics import accuracy_score\n",
    "score = accuracy_score(y_test, ada_pred) * 100\n",
    "print(\"Accuracy using ada: \", round(score, 1), \"%\")"
   ]
  },
  {
   "cell_type": "code",
   "execution_count": 63,
   "metadata": {},
   "outputs": [
    {
     "name": "stdout",
     "output_type": "stream",
     "text": [
      "Accuracy using gauss:  83.9 %\n"
     ]
    }
   ],
   "source": [
    "from sklearn.naive_bayes import GaussianNB\n",
    "gauss = GaussianNB()\n",
    "gauss.fit(x_train, y_train)\n",
    "gauss_pred = gauss.predict(x_test)\n",
    "score = accuracy_score(y_test, gauss_pred)*100\n",
    "print(\"Accuracy using gauss: \", round(score, 1), \"%\")"
   ]
  },
  {
   "cell_type": "code",
   "execution_count": 64,
   "metadata": {},
   "outputs": [
    {
     "name": "stdout",
     "output_type": "stream",
     "text": [
      "Accuracy using Kmeans:  19.4 %\n"
     ]
    }
   ],
   "source": [
    "from sklearn.cluster import KMeans\n",
    "k_means = KMeans(n_clusters=3, random_state=0)\n",
    "k_means.fit(x_train, y_train)\n",
    "predicted= k_means.predict(x_test)\n",
    "score = accuracy_score(y_test, predicted)*100\n",
    "print(\"Accuracy using Kmeans: \", round(score, 1), \"%\")"
   ]
  },
  {
   "cell_type": "code",
   "execution_count": 65,
   "metadata": {},
   "outputs": [
    {
     "name": "stdout",
     "output_type": "stream",
     "text": [
      "Accuracy using Gbc:  97.8 %\n"
     ]
    }
   ],
   "source": [
    "from sklearn.ensemble import GradientBoostingClassifier\n",
    "gbc = GradientBoostingClassifier(n_estimators=100, learning_rate=.1, max_depth=1, random_state=0)\n",
    "gbc.fit(x_train, y_train)\n",
    "predicted = gbc.predict(x_test)\n",
    "score = accuracy_score(y_test, predicted)*100\n",
    "print(\"Accuracy using Gbc: \", round(score, 1), \"%\")"
   ]
  },
  {
   "cell_type": "code",
   "execution_count": 66,
   "metadata": {},
   "outputs": [
    {
     "name": "stdout",
     "output_type": "stream",
     "text": [
      "Accuracy using bc:  95.7 %\n"
     ]
    }
   ],
   "source": [
    "from sklearn.ensemble import BaggingClassifier\n",
    "bc = BaggingClassifier()\n",
    "bc.fit(x_train, y_train)\n",
    "predicted = bc.predict(x_test)\n",
    "score = accuracy_score(y_test, predicted)*100\n",
    "print(\"Accuracy using bc: \", round(score, 1), \"%\")"
   ]
  },
  {
   "cell_type": "code",
   "execution_count": 67,
   "metadata": {},
   "outputs": [
    {
     "name": "stdout",
     "output_type": "stream",
     "text": [
      "3-fold cross validation:\n",
      "\n",
      "Accuracy: 0.97 (+/- 0.00) [GBC]\n",
      "Accuracy: 0.98 (+/- 0.00) [BC]\n",
      "Accuracy: 0.97 (+/- 0.00) [StackingClassifier]\n"
     ]
    }
   ],
   "source": [
    "from mlxtend.classifier import StackingClassifier\n",
    "from sklearn.model_selection import cross_val_score\n",
    "from sklearn.linear_model import LogisticRegression\n",
    "\n",
    "clf1 = GradientBoostingClassifier(learning_rate=0.2, max_depth=10, n_estimators=300)\n",
    "clf2 = BaggingClassifier(n_estimators=100)\n",
    "# lr = LogisticRegression()\n",
    "sclf = StackingClassifier(classifiers=[clf1, clf2]\n",
    "                          , meta_classifier=clf1\n",
    "                          , use_probas=True\n",
    "                          , average_probas=False,)\n",
    "\n",
    "print('3-fold cross validation:\\n')\n",
    "\n",
    "for clf, label in zip([clf1, clf2, sclf], \n",
    "                      ['GBC', \n",
    "                       'BC',\n",
    "                       'StackingClassifier']):\n",
    "\n",
    "    scores = cross_val_score(clf, x_train, y_train, \n",
    "                                              cv=3, scoring='accuracy')\n",
    "    print(\"Accuracy: %0.2f (+/- %0.2f) [%s]\" \n",
    "          % (scores.mean(), scores.std(), label))"
   ]
  },
  {
   "cell_type": "markdown",
   "metadata": {},
   "source": [
    "## The ones that take more time"
   ]
  },
  {
   "cell_type": "code",
   "execution_count": null,
   "metadata": {
    "collapsed": true
   },
   "outputs": [],
   "source": [
    "# from sklearn.discriminant_analysis import QuadraticDiscriminantAnalysis\n",
    "# qda = QuadraticDiscriminantAnalysis()\n",
    "# qda.fit(x_train, y_train)\n",
    "# qda_pred = qda.predict(x_test)\n",
    "# score = accuracy_score(y_test, qda_pred)*100\n",
    "# print(\"Accuracy using qda: \", round(score, 1), \"%\")"
   ]
  },
  {
   "cell_type": "code",
   "execution_count": null,
   "metadata": {
    "collapsed": true
   },
   "outputs": [],
   "source": [
    "# from sklearn.svm import SVC\n",
    "# svc_lin = SVC(kernel=\"linear\", C=0.025)\n",
    "# svc_lin.fit(x_train, y_train)\n",
    "# svc_pred = svc_lin.predict(x_test)\n",
    "# from sklearn.metrics import accuracy_score\n",
    "# score = accuracy_score(y_test, svc_pred) * 100\n",
    "# print(\"Accuracy using svc linear: \", round(score, 1), \"%\")"
   ]
  },
  {
   "cell_type": "code",
   "execution_count": null,
   "metadata": {
    "collapsed": true
   },
   "outputs": [],
   "source": [
    "# from sklearn.gaussian_process import GaussianProcessClassifier\n",
    "# from sklearn.gaussian_process.kernels import RBF\n",
    "# gpc = GaussianProcessClassifier(1.0 * RBF(1.0), warm_start=True)\n",
    "# gpc.fit(x_train, y_train)\n",
    "# gpc_pred = gpc.predict(x_test)\n",
    "# from sklearn.metrics import accuracy_score\n",
    "# score = accuracy_score(y_test, gpc_pred) * 100\n",
    "# print(\"Accuracy using gpc: \", round(score, 1), \"%\")"
   ]
  },
  {
   "cell_type": "markdown",
   "metadata": {},
   "source": [
    "# Now we should have a classifier with the highest accuracy score"
   ]
  },
  {
   "cell_type": "code",
   "execution_count": null,
   "metadata": {},
   "outputs": [],
   "source": [
    "# Request to modify playlists\n",
    "username = \"1287242681\"\n",
    "scope = 'playlist-modify-private playlist-modify-public playlist-read-private user-library-read'\n",
    "token = util.prompt_for_user_token(username, scope)\n",
    "#Good Playlist\n",
    "if token:\n",
    "    sp = spotipy.Spotify(auth=token)"
   ]
  },
  {
   "cell_type": "markdown",
   "metadata": {},
   "source": [
    "## Now we need to pick a playlist you want you classifier to find songs you like in...\n",
    "- Use the same thing you used to find the good and bad playlists to specify this new playlist you've taken an intrest in."
   ]
  },
  {
   "cell_type": "code",
   "execution_count": null,
   "metadata": {
    "scrolled": true
   },
   "outputs": [],
   "source": [
    "playlistToFindSongsYouLikeIn = sp.user_playlist(\"spotify\", \"37i9dQZEVXcFqDuJHHirGk\")\n",
    "\n",
    "newPlaylist_tracks = playlistToFindSongsYouLikeIn[\"tracks\"]\n",
    "newPlaylist_songs = newPlaylist_tracks[\"items\"] \n",
    "while newPlaylist_tracks['next']:\n",
    "    newPlaylist_tracks = sp.next(newPlaylist_tracks)\n",
    "    for song in newPlaylist_tracks[\"items\"]:\n",
    "        newPlaylist_songs.append(song)\n",
    "        \n",
    "newPlaylist_song_ids = [] \n",
    "print(len(newPlaylist_songs))\n",
    "for i in range(len(newPlaylist_songs)):\n",
    "    newPlaylist_song_ids.append(newPlaylist_songs[i]['track']['id'])\n",
    "    \n",
    "newPlaylist_features = []\n",
    "j = 0\n",
    "for i in range(0,len(newPlaylist_song_ids),50):\n",
    "    audio_features = sp.audio_features(newPlaylist_song_ids[i:i+50])\n",
    "    for track in audio_features:\n",
    "        track['song_title'] = newPlaylist_songs[j]['track']['name']\n",
    "        track['artist'] = newPlaylist_songs[j]['track']['artists'][0]['name']\n",
    "        j= j + 1\n",
    "        newPlaylist_features.append(track)\n",
    "print(len(newPlaylist_features))\n",
    "\n",
    "playlistToLookAtFeatures = pd.DataFrame(newPlaylist_features)"
   ]
  },
  {
   "cell_type": "markdown",
   "metadata": {},
   "source": [
    "# We just loaded in your new tracks and audio features for those tracks\n",
    "- Now all we have to do is find the highest accuracy value out of all you classifiers (for me it was gdc) and predict what we will have over the new playlist"
   ]
  },
  {
   "cell_type": "markdown",
   "metadata": {},
   "source": [
    "### Quick aside: you can put these into a new playlist as well, just use the sp.user_playlist_add_tracks function\n",
    "- The function looks like this user_playlist_add_tracks(\"username\", \"playlist_id\", \"track_id_to_add\")"
   ]
  },
  {
   "cell_type": "code",
   "execution_count": null,
   "metadata": {
    "scrolled": true
   },
   "outputs": [],
   "source": [
    "pred = gbc.predict(playlistToLookAtFeatures[features])\n",
    "\n",
    "likedSongs = 0\n",
    "i = 0\n",
    "for prediction in pred:\n",
    "    if(prediction == 1):\n",
    "        print (\"Song: \" + playlistToLookAtFeatures[\"song_title\"][i] + \", By: \"+ playlistToLookAtFeatures[\"artist\"][i])\n",
    "        #sp.user_playlist_add_tracks(\"1287242681\", \"7eIX1zvtpZR3M3rYFVA7DF\", [test['id'][i]])\n",
    "        likedSongs= likedSongs + 1\n",
    "    i = i +1\n",
    "    "
   ]
  },
  {
   "cell_type": "markdown",
   "metadata": {},
   "source": [
    "# There Ya Go!\n",
    "- This was my quick overview of my process of how I used classifiers and spoitfy to try and help me find tracks I might like in any playlist on spotify!\n",
    "- I want to make this tutorial less involved and figure out a way to make my classifiers better as well as using Tensorflow to make a model in order to do this for me."
   ]
  },
  {
   "cell_type": "markdown",
   "metadata": {},
   "source": [
    "# Tuning using GridSearchCV"
   ]
  },
  {
   "cell_type": "markdown",
   "metadata": {},
   "source": [
    "## I. GradientBoostingClassifier"
   ]
  },
  {
   "cell_type": "code",
   "execution_count": 68,
   "metadata": {
    "collapsed": true
   },
   "outputs": [],
   "source": [
    "from sklearn.impute import SimpleImputer\n",
    "from sklearn.preprocessing import StandardScaler\n",
    "from sklearn.preprocessing import LabelEncoder\n",
    "from sklearn.compose import ColumnTransformer\n",
    "from sklearn.pipeline import Pipeline\n",
    "from sklearn.metrics import roc_auc_score\n",
    "from sklearn.model_selection import GridSearchCV"
   ]
  },
  {
   "cell_type": "code",
   "execution_count": 69,
   "metadata": {
    "collapsed": true
   },
   "outputs": [],
   "source": [
    "estimator = Pipeline([(\"imputer\", SimpleImputer(strategy='mean'))\n",
    "                      , ('standardizer', StandardScaler())\n",
    "                      , (\"gbm\", GradientBoostingClassifier())\n",
    "                     ])\n",
    "\n",
    "parameters = {'gbm__n_estimators': [50, 100, 300]\n",
    "              , 'gbm__max_depth' : [8, 10, 12]\n",
    "              , 'gbm__learning_rate' : [0.1, 0.2, 0.7]\n",
    "             }"
   ]
  },
  {
   "cell_type": "code",
   "execution_count": 70,
   "metadata": {
    "collapsed": true
   },
   "outputs": [],
   "source": [
    "gs = GridSearchCV(estimator, parameters, cv=3, verbose=3, scoring='roc_auc', n_jobs=1)"
   ]
  },
  {
   "cell_type": "code",
   "execution_count": 71,
   "metadata": {},
   "outputs": [
    {
     "name": "stdout",
     "output_type": "stream",
     "text": [
      "Fitting 3 folds for each of 27 candidates, totalling 81 fits\n",
      "[CV] gbm__learning_rate=0.1, gbm__max_depth=8, gbm__n_estimators=50 ..\n",
      "[CV]  gbm__learning_rate=0.1, gbm__max_depth=8, gbm__n_estimators=50, score=0.9809286898839138, total=   0.0s\n",
      "[CV] gbm__learning_rate=0.1, gbm__max_depth=8, gbm__n_estimators=50 ..\n",
      "[CV]  gbm__learning_rate=0.1, gbm__max_depth=8, gbm__n_estimators=50, score=0.9344941956882257, total=   0.0s\n",
      "[CV] gbm__learning_rate=0.1, gbm__max_depth=8, gbm__n_estimators=50 ..\n",
      "[CV]  gbm__learning_rate=0.1, gbm__max_depth=8, gbm__n_estimators=50, score=0.9614839988671764, total=   0.0s\n",
      "[CV] gbm__learning_rate=0.1, gbm__max_depth=8, gbm__n_estimators=100 .\n",
      "[CV]  gbm__learning_rate=0.1, gbm__max_depth=8, gbm__n_estimators=100, score=0.9982725262576009, total=   0.0s\n",
      "[CV] gbm__learning_rate=0.1, gbm__max_depth=8, gbm__n_estimators=100 .\n"
     ]
    },
    {
     "name": "stderr",
     "output_type": "stream",
     "text": [
      "[Parallel(n_jobs=1)]: Using backend SequentialBackend with 1 concurrent workers.\n",
      "[Parallel(n_jobs=1)]: Done   1 out of   1 | elapsed:    0.0s remaining:    0.0s\n",
      "[Parallel(n_jobs=1)]: Done   2 out of   2 | elapsed:    0.0s remaining:    0.0s\n"
     ]
    },
    {
     "name": "stdout",
     "output_type": "stream",
     "text": [
      "[CV]  gbm__learning_rate=0.1, gbm__max_depth=8, gbm__n_estimators=100, score=0.9957158651188501, total=   0.0s\n",
      "[CV] gbm__learning_rate=0.1, gbm__max_depth=8, gbm__n_estimators=100 .\n",
      "[CV]  gbm__learning_rate=0.1, gbm__max_depth=8, gbm__n_estimators=100, score=0.9820164259416596, total=   0.0s\n",
      "[CV] gbm__learning_rate=0.1, gbm__max_depth=8, gbm__n_estimators=300 .\n",
      "[CV]  gbm__learning_rate=0.1, gbm__max_depth=8, gbm__n_estimators=300, score=0.9981343283582089, total=   0.0s\n",
      "[CV] gbm__learning_rate=0.1, gbm__max_depth=8, gbm__n_estimators=300 .\n",
      "[CV]  gbm__learning_rate=0.1, gbm__max_depth=8, gbm__n_estimators=300, score=0.9958540630182422, total=   0.0s\n",
      "[CV] gbm__learning_rate=0.1, gbm__max_depth=8, gbm__n_estimators=300 .\n",
      "[CV]  gbm__learning_rate=0.1, gbm__max_depth=8, gbm__n_estimators=300, score=0.9817332200509771, total=   0.0s\n",
      "[CV] gbm__learning_rate=0.1, gbm__max_depth=10, gbm__n_estimators=50 .\n",
      "[CV]  gbm__learning_rate=0.1, gbm__max_depth=10, gbm__n_estimators=50, score=0.9809286898839138, total=   0.0s\n",
      "[CV] gbm__learning_rate=0.1, gbm__max_depth=10, gbm__n_estimators=50 .\n",
      "[CV]  gbm__learning_rate=0.1, gbm__max_depth=10, gbm__n_estimators=50, score=0.9344941956882257, total=   0.0s\n",
      "[CV] gbm__learning_rate=0.1, gbm__max_depth=10, gbm__n_estimators=50 .\n",
      "[CV]  gbm__learning_rate=0.1, gbm__max_depth=10, gbm__n_estimators=50, score=0.9614839988671764, total=   0.0s\n",
      "[CV] gbm__learning_rate=0.1, gbm__max_depth=10, gbm__n_estimators=100 \n",
      "[CV]  gbm__learning_rate=0.1, gbm__max_depth=10, gbm__n_estimators=100, score=0.9982725262576009, total=   0.0s\n",
      "[CV] gbm__learning_rate=0.1, gbm__max_depth=10, gbm__n_estimators=100 \n",
      "[CV]  gbm__learning_rate=0.1, gbm__max_depth=10, gbm__n_estimators=100, score=0.995992260917634, total=   0.0s\n",
      "[CV] gbm__learning_rate=0.1, gbm__max_depth=10, gbm__n_estimators=100 \n",
      "[CV]  gbm__learning_rate=0.1, gbm__max_depth=10, gbm__n_estimators=100, score=0.9817332200509771, total=   0.0s\n",
      "[CV] gbm__learning_rate=0.1, gbm__max_depth=10, gbm__n_estimators=300 \n",
      "[CV]  gbm__learning_rate=0.1, gbm__max_depth=10, gbm__n_estimators=300, score=0.997857932559425, total=   0.0s\n",
      "[CV] gbm__learning_rate=0.1, gbm__max_depth=10, gbm__n_estimators=300 \n",
      "[CV]  gbm__learning_rate=0.1, gbm__max_depth=10, gbm__n_estimators=300, score=0.9958540630182421, total=   0.0s\n",
      "[CV] gbm__learning_rate=0.1, gbm__max_depth=10, gbm__n_estimators=300 \n",
      "[CV]  gbm__learning_rate=0.1, gbm__max_depth=10, gbm__n_estimators=300, score=0.9818748229963183, total=   0.0s\n",
      "[CV] gbm__learning_rate=0.1, gbm__max_depth=12, gbm__n_estimators=50 .\n",
      "[CV]  gbm__learning_rate=0.1, gbm__max_depth=12, gbm__n_estimators=50, score=0.9809286898839138, total=   0.0s\n",
      "[CV] gbm__learning_rate=0.1, gbm__max_depth=12, gbm__n_estimators=50 .\n",
      "[CV]  gbm__learning_rate=0.1, gbm__max_depth=12, gbm__n_estimators=50, score=0.9344941956882257, total=   0.0s\n",
      "[CV] gbm__learning_rate=0.1, gbm__max_depth=12, gbm__n_estimators=50 .\n",
      "[CV]  gbm__learning_rate=0.1, gbm__max_depth=12, gbm__n_estimators=50, score=0.9613423959218351, total=   0.0s\n",
      "[CV] gbm__learning_rate=0.1, gbm__max_depth=12, gbm__n_estimators=100 \n",
      "[CV]  gbm__learning_rate=0.1, gbm__max_depth=12, gbm__n_estimators=100, score=0.9982725262576009, total=   0.0s\n",
      "[CV] gbm__learning_rate=0.1, gbm__max_depth=12, gbm__n_estimators=100 \n",
      "[CV]  gbm__learning_rate=0.1, gbm__max_depth=12, gbm__n_estimators=100, score=0.995992260917634, total=   0.0s\n",
      "[CV] gbm__learning_rate=0.1, gbm__max_depth=12, gbm__n_estimators=100 \n",
      "[CV]  gbm__learning_rate=0.1, gbm__max_depth=12, gbm__n_estimators=100, score=0.9820164259416596, total=   0.0s\n",
      "[CV] gbm__learning_rate=0.1, gbm__max_depth=12, gbm__n_estimators=300 \n",
      "[CV]  gbm__learning_rate=0.1, gbm__max_depth=12, gbm__n_estimators=300, score=0.9977197346600332, total=   0.0s\n",
      "[CV] gbm__learning_rate=0.1, gbm__max_depth=12, gbm__n_estimators=300 \n",
      "[CV]  gbm__learning_rate=0.1, gbm__max_depth=12, gbm__n_estimators=300, score=0.9957158651188501, total=   0.0s\n",
      "[CV] gbm__learning_rate=0.1, gbm__max_depth=12, gbm__n_estimators=300 \n",
      "[CV]  gbm__learning_rate=0.1, gbm__max_depth=12, gbm__n_estimators=300, score=0.9817332200509771, total=   0.0s\n",
      "[CV] gbm__learning_rate=0.2, gbm__max_depth=8, gbm__n_estimators=50 ..\n",
      "[CV]  gbm__learning_rate=0.2, gbm__max_depth=8, gbm__n_estimators=50, score=0.9975124378109452, total=   0.0s\n",
      "[CV] gbm__learning_rate=0.2, gbm__max_depth=8, gbm__n_estimators=50 ..\n",
      "[CV]  gbm__learning_rate=0.2, gbm__max_depth=8, gbm__n_estimators=50, score=0.9949557766721946, total=   0.0s\n",
      "[CV] gbm__learning_rate=0.2, gbm__max_depth=8, gbm__n_estimators=50 ..\n",
      "[CV]  gbm__learning_rate=0.2, gbm__max_depth=8, gbm__n_estimators=50, score=0.9820164259416596, total=   0.0s\n",
      "[CV] gbm__learning_rate=0.2, gbm__max_depth=8, gbm__n_estimators=100 .\n",
      "[CV]  gbm__learning_rate=0.2, gbm__max_depth=8, gbm__n_estimators=100, score=0.9973742399115533, total=   0.0s\n",
      "[CV] gbm__learning_rate=0.2, gbm__max_depth=8, gbm__n_estimators=100 .\n",
      "[CV]  gbm__learning_rate=0.2, gbm__max_depth=8, gbm__n_estimators=100, score=0.9944029850746269, total=   0.0s\n",
      "[CV] gbm__learning_rate=0.2, gbm__max_depth=8, gbm__n_estimators=100 .\n",
      "[CV]  gbm__learning_rate=0.2, gbm__max_depth=8, gbm__n_estimators=100, score=0.9817332200509771, total=   0.0s\n",
      "[CV] gbm__learning_rate=0.2, gbm__max_depth=8, gbm__n_estimators=300 .\n",
      "[CV]  gbm__learning_rate=0.2, gbm__max_depth=8, gbm__n_estimators=300, score=0.9973742399115533, total=   0.0s\n",
      "[CV] gbm__learning_rate=0.2, gbm__max_depth=8, gbm__n_estimators=300 .\n",
      "[CV]  gbm__learning_rate=0.2, gbm__max_depth=8, gbm__n_estimators=300, score=0.9933665008291874, total=   0.0s\n",
      "[CV] gbm__learning_rate=0.2, gbm__max_depth=8, gbm__n_estimators=300 .\n",
      "[CV]  gbm__learning_rate=0.2, gbm__max_depth=8, gbm__n_estimators=300, score=0.9818748229963183, total=   0.0s\n",
      "[CV] gbm__learning_rate=0.2, gbm__max_depth=10, gbm__n_estimators=50 .\n",
      "[CV]  gbm__learning_rate=0.2, gbm__max_depth=10, gbm__n_estimators=50, score=0.9975124378109452, total=   0.0s\n",
      "[CV] gbm__learning_rate=0.2, gbm__max_depth=10, gbm__n_estimators=50 .\n",
      "[CV]  gbm__learning_rate=0.2, gbm__max_depth=10, gbm__n_estimators=50, score=0.9946793808734107, total=   0.0s\n",
      "[CV] gbm__learning_rate=0.2, gbm__max_depth=10, gbm__n_estimators=50 .\n",
      "[CV]  gbm__learning_rate=0.2, gbm__max_depth=10, gbm__n_estimators=50, score=0.9818748229963183, total=   0.0s\n",
      "[CV] gbm__learning_rate=0.2, gbm__max_depth=10, gbm__n_estimators=100 \n",
      "[CV]  gbm__learning_rate=0.2, gbm__max_depth=10, gbm__n_estimators=100, score=0.9973742399115533, total=   0.0s\n",
      "[CV] gbm__learning_rate=0.2, gbm__max_depth=10, gbm__n_estimators=100 \n",
      "[CV]  gbm__learning_rate=0.2, gbm__max_depth=10, gbm__n_estimators=100, score=0.9929519071310116, total=   0.0s\n",
      "[CV] gbm__learning_rate=0.2, gbm__max_depth=10, gbm__n_estimators=100 \n",
      "[CV]  gbm__learning_rate=0.2, gbm__max_depth=10, gbm__n_estimators=100, score=0.9818748229963183, total=   0.0s\n",
      "[CV] gbm__learning_rate=0.2, gbm__max_depth=10, gbm__n_estimators=300 \n",
      "[CV]  gbm__learning_rate=0.2, gbm__max_depth=10, gbm__n_estimators=300, score=0.9973742399115533, total=   0.0s\n",
      "[CV] gbm__learning_rate=0.2, gbm__max_depth=10, gbm__n_estimators=300 \n",
      "[CV]  gbm__learning_rate=0.2, gbm__max_depth=10, gbm__n_estimators=300, score=0.9949557766721946, total=   0.0s\n",
      "[CV] gbm__learning_rate=0.2, gbm__max_depth=10, gbm__n_estimators=300 \n",
      "[CV]  gbm__learning_rate=0.2, gbm__max_depth=10, gbm__n_estimators=300, score=0.9821580288870009, total=   0.0s\n",
      "[CV] gbm__learning_rate=0.2, gbm__max_depth=12, gbm__n_estimators=50 .\n",
      "[CV]  gbm__learning_rate=0.2, gbm__max_depth=12, gbm__n_estimators=50, score=0.9973742399115533, total=   0.0s\n",
      "[CV] gbm__learning_rate=0.2, gbm__max_depth=12, gbm__n_estimators=50 .\n",
      "[CV]  gbm__learning_rate=0.2, gbm__max_depth=12, gbm__n_estimators=50, score=0.9946793808734107, total=   0.0s\n",
      "[CV] gbm__learning_rate=0.2, gbm__max_depth=12, gbm__n_estimators=50 .\n",
      "[CV]  gbm__learning_rate=0.2, gbm__max_depth=12, gbm__n_estimators=50, score=0.9815916171056358, total=   0.0s\n",
      "[CV] gbm__learning_rate=0.2, gbm__max_depth=12, gbm__n_estimators=100 \n",
      "[CV]  gbm__learning_rate=0.2, gbm__max_depth=12, gbm__n_estimators=100, score=0.9973742399115533, total=   0.0s\n",
      "[CV] gbm__learning_rate=0.2, gbm__max_depth=12, gbm__n_estimators=100 \n"
     ]
    },
    {
     "name": "stdout",
     "output_type": "stream",
     "text": [
      "[CV]  gbm__learning_rate=0.2, gbm__max_depth=12, gbm__n_estimators=100, score=0.9948175787728026, total=   0.0s\n",
      "[CV] gbm__learning_rate=0.2, gbm__max_depth=12, gbm__n_estimators=100 \n",
      "[CV]  gbm__learning_rate=0.2, gbm__max_depth=12, gbm__n_estimators=100, score=0.9822996318323421, total=   0.0s\n",
      "[CV] gbm__learning_rate=0.2, gbm__max_depth=12, gbm__n_estimators=300 \n",
      "[CV]  gbm__learning_rate=0.2, gbm__max_depth=12, gbm__n_estimators=300, score=0.9972360420121613, total=   0.0s\n",
      "[CV] gbm__learning_rate=0.2, gbm__max_depth=12, gbm__n_estimators=300 \n",
      "[CV]  gbm__learning_rate=0.2, gbm__max_depth=12, gbm__n_estimators=300, score=0.9948175787728026, total=   0.0s\n",
      "[CV] gbm__learning_rate=0.2, gbm__max_depth=12, gbm__n_estimators=300 \n",
      "[CV]  gbm__learning_rate=0.2, gbm__max_depth=12, gbm__n_estimators=300, score=0.9815916171056358, total=   0.0s\n",
      "[CV] gbm__learning_rate=0.7, gbm__max_depth=8, gbm__n_estimators=50 ..\n",
      "[CV]  gbm__learning_rate=0.7, gbm__max_depth=8, gbm__n_estimators=50, score=0.9849364289662796, total=   0.0s\n",
      "[CV] gbm__learning_rate=0.7, gbm__max_depth=8, gbm__n_estimators=50 ..\n",
      "[CV]  gbm__learning_rate=0.7, gbm__max_depth=8, gbm__n_estimators=50, score=0.982379767827529, total=   0.0s\n",
      "[CV] gbm__learning_rate=0.7, gbm__max_depth=8, gbm__n_estimators=50 ..\n",
      "[CV]  gbm__learning_rate=0.7, gbm__max_depth=8, gbm__n_estimators=50, score=0.9749362786745964, total=   0.0s\n",
      "[CV] gbm__learning_rate=0.7, gbm__max_depth=8, gbm__n_estimators=100 .\n",
      "[CV]  gbm__learning_rate=0.7, gbm__max_depth=8, gbm__n_estimators=100, score=0.9847982310668877, total=   0.0s\n",
      "[CV] gbm__learning_rate=0.7, gbm__max_depth=8, gbm__n_estimators=100 .\n",
      "[CV]  gbm__learning_rate=0.7, gbm__max_depth=8, gbm__n_estimators=100, score=0.9822415699281369, total=   0.0s\n",
      "[CV] gbm__learning_rate=0.7, gbm__max_depth=8, gbm__n_estimators=100 .\n",
      "[CV]  gbm__learning_rate=0.7, gbm__max_depth=8, gbm__n_estimators=100, score=0.974794675729255, total=   0.0s\n",
      "[CV] gbm__learning_rate=0.7, gbm__max_depth=8, gbm__n_estimators=300 .\n",
      "[CV]  gbm__learning_rate=0.7, gbm__max_depth=8, gbm__n_estimators=300, score=0.9937119955776672, total=   0.0s\n",
      "[CV] gbm__learning_rate=0.7, gbm__max_depth=8, gbm__n_estimators=300 .\n",
      "[CV]  gbm__learning_rate=0.7, gbm__max_depth=8, gbm__n_estimators=300, score=0.9827943615257049, total=   0.0s\n",
      "[CV] gbm__learning_rate=0.7, gbm__max_depth=8, gbm__n_estimators=300 .\n",
      "[CV]  gbm__learning_rate=0.7, gbm__max_depth=8, gbm__n_estimators=300, score=0.9749362786745964, total=   0.0s\n",
      "[CV] gbm__learning_rate=0.7, gbm__max_depth=10, gbm__n_estimators=50 .\n",
      "[CV]  gbm__learning_rate=0.7, gbm__max_depth=10, gbm__n_estimators=50, score=0.9937119955776672, total=   0.0s\n",
      "[CV] gbm__learning_rate=0.7, gbm__max_depth=10, gbm__n_estimators=50 .\n",
      "[CV]  gbm__learning_rate=0.7, gbm__max_depth=10, gbm__n_estimators=50, score=0.982379767827529, total=   0.0s\n",
      "[CV] gbm__learning_rate=0.7, gbm__max_depth=10, gbm__n_estimators=50 .\n",
      "[CV]  gbm__learning_rate=0.7, gbm__max_depth=10, gbm__n_estimators=50, score=0.9742282639478901, total=   0.0s\n",
      "[CV] gbm__learning_rate=0.7, gbm__max_depth=10, gbm__n_estimators=100 \n",
      "[CV]  gbm__learning_rate=0.7, gbm__max_depth=10, gbm__n_estimators=100, score=0.9850746268656716, total=   0.0s\n",
      "[CV] gbm__learning_rate=0.7, gbm__max_depth=10, gbm__n_estimators=100 \n",
      "[CV]  gbm__learning_rate=0.7, gbm__max_depth=10, gbm__n_estimators=100, score=0.982379767827529, total=   0.0s\n",
      "[CV] gbm__learning_rate=0.7, gbm__max_depth=10, gbm__n_estimators=100 \n",
      "[CV]  gbm__learning_rate=0.7, gbm__max_depth=10, gbm__n_estimators=100, score=0.9750778816199377, total=   0.0s\n",
      "[CV] gbm__learning_rate=0.7, gbm__max_depth=10, gbm__n_estimators=300 \n",
      "[CV]  gbm__learning_rate=0.7, gbm__max_depth=10, gbm__n_estimators=300, score=0.9850746268656716, total=   0.0s\n",
      "[CV] gbm__learning_rate=0.7, gbm__max_depth=10, gbm__n_estimators=300 \n",
      "[CV]  gbm__learning_rate=0.7, gbm__max_depth=10, gbm__n_estimators=300, score=0.9684217799889443, total=   0.0s\n",
      "[CV] gbm__learning_rate=0.7, gbm__max_depth=10, gbm__n_estimators=300 \n",
      "[CV]  gbm__learning_rate=0.7, gbm__max_depth=10, gbm__n_estimators=300, score=0.9749362786745964, total=   0.0s\n",
      "[CV] gbm__learning_rate=0.7, gbm__max_depth=12, gbm__n_estimators=50 .\n",
      "[CV]  gbm__learning_rate=0.7, gbm__max_depth=12, gbm__n_estimators=50, score=0.9850746268656716, total=   0.0s\n",
      "[CV] gbm__learning_rate=0.7, gbm__max_depth=12, gbm__n_estimators=50 .\n",
      "[CV]  gbm__learning_rate=0.7, gbm__max_depth=12, gbm__n_estimators=50, score=0.968905472636816, total=   0.0s\n",
      "[CV] gbm__learning_rate=0.7, gbm__max_depth=12, gbm__n_estimators=50 .\n",
      "[CV]  gbm__learning_rate=0.7, gbm__max_depth=12, gbm__n_estimators=50, score=0.9747946757292552, total=   0.0s\n",
      "[CV] gbm__learning_rate=0.7, gbm__max_depth=12, gbm__n_estimators=100 \n",
      "[CV]  gbm__learning_rate=0.7, gbm__max_depth=12, gbm__n_estimators=100, score=0.9853510226644554, total=   0.0s\n",
      "[CV] gbm__learning_rate=0.7, gbm__max_depth=12, gbm__n_estimators=100 \n",
      "[CV]  gbm__learning_rate=0.7, gbm__max_depth=12, gbm__n_estimators=100, score=0.9684217799889443, total=   0.0s\n",
      "[CV] gbm__learning_rate=0.7, gbm__max_depth=12, gbm__n_estimators=100 \n",
      "[CV]  gbm__learning_rate=0.7, gbm__max_depth=12, gbm__n_estimators=100, score=0.9747946757292552, total=   0.0s\n",
      "[CV] gbm__learning_rate=0.7, gbm__max_depth=12, gbm__n_estimators=300 \n",
      "[CV]  gbm__learning_rate=0.7, gbm__max_depth=12, gbm__n_estimators=300, score=0.9850746268656716, total=   0.0s\n",
      "[CV] gbm__learning_rate=0.7, gbm__max_depth=12, gbm__n_estimators=300 \n",
      "[CV]  gbm__learning_rate=0.7, gbm__max_depth=12, gbm__n_estimators=300, score=0.9683526810392483, total=   0.0s\n",
      "[CV] gbm__learning_rate=0.7, gbm__max_depth=12, gbm__n_estimators=300 \n",
      "[CV]  gbm__learning_rate=0.7, gbm__max_depth=12, gbm__n_estimators=300, score=0.9670065137354856, total=   0.0s\n"
     ]
    },
    {
     "name": "stderr",
     "output_type": "stream",
     "text": [
      "[Parallel(n_jobs=1)]: Done  81 out of  81 | elapsed:    3.7s finished\n"
     ]
    },
    {
     "data": {
      "text/plain": [
       "GridSearchCV(cv=3, error_score='raise-deprecating',\n",
       "       estimator=Pipeline(memory=None,\n",
       "     steps=[('imputer', SimpleImputer(copy=True, fill_value=None, missing_values=nan, strategy='mean',\n",
       "       verbose=0)), ('standardizer', StandardScaler(copy=True, with_mean=True, with_std=True)), ('gbm', GradientBoostingClassifier(criterion='friedman_mse', init=None,\n",
       "              learning_rate=0.1, l...    subsample=1.0, tol=0.0001, validation_fraction=0.1,\n",
       "              verbose=0, warm_start=False))]),\n",
       "       fit_params=None, iid='warn', n_jobs=1,\n",
       "       param_grid={'gbm__n_estimators': [50, 100, 300], 'gbm__max_depth': [8, 10, 12], 'gbm__learning_rate': [0.1, 0.2, 0.7]},\n",
       "       pre_dispatch='2*n_jobs', refit=True, return_train_score='warn',\n",
       "       scoring='roc_auc', verbose=3)"
      ]
     },
     "execution_count": 71,
     "metadata": {},
     "output_type": "execute_result"
    }
   ],
   "source": [
    "gs.fit(x_train, y_train.values.ravel())"
   ]
  },
  {
   "cell_type": "code",
   "execution_count": 72,
   "metadata": {},
   "outputs": [
    {
     "data": {
      "text/plain": [
       "{'gbm__learning_rate': 0.1, 'gbm__max_depth': 12, 'gbm__n_estimators': 100}"
      ]
     },
     "execution_count": 72,
     "metadata": {},
     "output_type": "execute_result"
    }
   ],
   "source": [
    "gs.best_params_"
   ]
  },
  {
   "cell_type": "code",
   "execution_count": 73,
   "metadata": {},
   "outputs": [
    {
     "data": {
      "text/plain": [
       "Pipeline(memory=None,\n",
       "     steps=[('imputer', SimpleImputer(copy=True, fill_value=None, missing_values=nan, strategy='mean',\n",
       "       verbose=0)), ('standardizer', StandardScaler(copy=True, with_mean=True, with_std=True)), ('gbm', GradientBoostingClassifier(criterion='friedman_mse', init=None,\n",
       "              learning_rate=0.1, l...    subsample=1.0, tol=0.0001, validation_fraction=0.1,\n",
       "              verbose=0, warm_start=False))])"
      ]
     },
     "execution_count": 73,
     "metadata": {},
     "output_type": "execute_result"
    }
   ],
   "source": [
    "tuned_estimator = Pipeline([(\"imputer\", SimpleImputer(strategy='mean'))\n",
    "                      , ('standardizer', StandardScaler())\n",
    "                      , (\"gbm\", GradientBoostingClassifier(learning_rate=0.1\n",
    "                                                          , max_depth=12\n",
    "                                                          , n_estimators=100))\n",
    "                     ])\n",
    "\n",
    "tuned_estimator.fit(x_train, y_train.values.ravel())"
   ]
  },
  {
   "cell_type": "code",
   "execution_count": 74,
   "metadata": {},
   "outputs": [
    {
     "name": "stdout",
     "output_type": "stream",
     "text": [
      "Accuracy using Tuned GBC:  97.8 %\n"
     ]
    }
   ],
   "source": [
    "predicted = tuned_estimator.predict(x_test)\n",
    "score = accuracy_score(y_test, predicted)*100\n",
    "print(\"Accuracy using Tuned GBC: \", round(score, 1), \"%\")"
   ]
  },
  {
   "cell_type": "markdown",
   "metadata": {},
   "source": [
    "## II. BaggingClassifier"
   ]
  },
  {
   "cell_type": "code",
   "execution_count": 75,
   "metadata": {
    "collapsed": true
   },
   "outputs": [],
   "source": [
    "estimator = Pipeline([(\"imputer\", SimpleImputer(strategy='mean'))\n",
    "                      , ('standardizer', StandardScaler())\n",
    "                      , (\"bc\", BaggingClassifier())\n",
    "                     ])\n",
    "\n",
    "parameters = {'bc__n_estimators': [50, 100, 300]}"
   ]
  },
  {
   "cell_type": "code",
   "execution_count": 76,
   "metadata": {
    "collapsed": true
   },
   "outputs": [],
   "source": [
    "gs = GridSearchCV(estimator, parameters, cv=3, verbose=3, scoring='roc_auc', n_jobs=1)"
   ]
  },
  {
   "cell_type": "code",
   "execution_count": 77,
   "metadata": {},
   "outputs": [
    {
     "name": "stdout",
     "output_type": "stream",
     "text": [
      "Fitting 3 folds for each of 3 candidates, totalling 9 fits\n",
      "[CV] bc__n_estimators=50 .............................................\n",
      "[CV] .... bc__n_estimators=50, score=0.9982725262576009, total=   0.0s\n",
      "[CV] bc__n_estimators=50 .............................................\n",
      "[CV] ..... bc__n_estimators=50, score=0.996199557766722, total=   0.0s\n",
      "[CV] bc__n_estimators=50 .............................................\n",
      "[CV] .... bc__n_estimators=50, score=0.9815916171056358, total=   0.0s\n",
      "[CV] bc__n_estimators=100 ............................................\n"
     ]
    },
    {
     "name": "stderr",
     "output_type": "stream",
     "text": [
      "[Parallel(n_jobs=1)]: Using backend SequentialBackend with 1 concurrent workers.\n",
      "[Parallel(n_jobs=1)]: Done   1 out of   1 | elapsed:    0.0s remaining:    0.0s\n",
      "[Parallel(n_jobs=1)]: Done   2 out of   2 | elapsed:    0.0s remaining:    0.0s\n"
     ]
    },
    {
     "name": "stdout",
     "output_type": "stream",
     "text": [
      "[CV] .... bc__n_estimators=100, score=0.993988391376451, total=   0.0s\n",
      "[CV] bc__n_estimators=100 ............................................\n",
      "[CV] ... bc__n_estimators=100, score=0.9959231619679381, total=   0.0s\n",
      "[CV] bc__n_estimators=100 ............................................\n",
      "[CV] ... bc__n_estimators=100, score=0.9882469555366752, total=   0.0s\n",
      "[CV] bc__n_estimators=300 ............................................\n",
      "[CV] ... bc__n_estimators=300, score=0.9977888336097291, total=   0.2s\n",
      "[CV] bc__n_estimators=300 ............................................\n",
      "[CV] .... bc__n_estimators=300, score=0.995992260917634, total=   0.2s\n",
      "[CV] bc__n_estimators=300 ............................................\n",
      "[CV] .... bc__n_estimators=300, score=0.994052676295667, total=   0.2s\n"
     ]
    },
    {
     "name": "stderr",
     "output_type": "stream",
     "text": [
      "[Parallel(n_jobs=1)]: Done   9 out of   9 | elapsed:    1.3s finished\n"
     ]
    },
    {
     "data": {
      "text/plain": [
       "GridSearchCV(cv=3, error_score='raise-deprecating',\n",
       "       estimator=Pipeline(memory=None,\n",
       "     steps=[('imputer', SimpleImputer(copy=True, fill_value=None, missing_values=nan, strategy='mean',\n",
       "       verbose=0)), ('standardizer', StandardScaler(copy=True, with_mean=True, with_std=True)), ('bc', BaggingClassifier(base_estimator=None, bootstrap=True,\n",
       "         bootstrap_features=False, max_features=1.0, max_samples=1.0,\n",
       "         n_estimators=10, n_jobs=None, oob_score=False, random_state=None,\n",
       "         verbose=0, warm_start=False))]),\n",
       "       fit_params=None, iid='warn', n_jobs=1,\n",
       "       param_grid={'bc__n_estimators': [50, 100, 300]},\n",
       "       pre_dispatch='2*n_jobs', refit=True, return_train_score='warn',\n",
       "       scoring='roc_auc', verbose=3)"
      ]
     },
     "execution_count": 77,
     "metadata": {},
     "output_type": "execute_result"
    }
   ],
   "source": [
    "gs.fit(x_train, y_train.values.ravel())"
   ]
  },
  {
   "cell_type": "code",
   "execution_count": 78,
   "metadata": {},
   "outputs": [
    {
     "data": {
      "text/plain": [
       "{'bc__n_estimators': 300}"
      ]
     },
     "execution_count": 78,
     "metadata": {},
     "output_type": "execute_result"
    }
   ],
   "source": [
    "gs.best_params_"
   ]
  },
  {
   "cell_type": "code",
   "execution_count": 79,
   "metadata": {},
   "outputs": [
    {
     "data": {
      "text/plain": [
       "Pipeline(memory=None,\n",
       "     steps=[('imputer', SimpleImputer(copy=True, fill_value=None, missing_values=nan, strategy='mean',\n",
       "       verbose=0)), ('standardizer', StandardScaler(copy=True, with_mean=True, with_std=True)), ('bc', BaggingClassifier(base_estimator=None, bootstrap=True,\n",
       "         bootstrap_features=False, max_features=1.0, max_samples=1.0,\n",
       "         n_estimators=300, n_jobs=None, oob_score=False, random_state=None,\n",
       "         verbose=0, warm_start=False))])"
      ]
     },
     "execution_count": 79,
     "metadata": {},
     "output_type": "execute_result"
    }
   ],
   "source": [
    "tuned_estimator = Pipeline([(\"imputer\", SimpleImputer(strategy='mean'))\n",
    "                      , ('standardizer', StandardScaler())\n",
    "                      , (\"bc\", BaggingClassifier(n_estimators=300))\n",
    "                     ])\n",
    "\n",
    "tuned_estimator.fit(x_train, y_train.values.ravel())"
   ]
  },
  {
   "cell_type": "code",
   "execution_count": 80,
   "metadata": {},
   "outputs": [
    {
     "name": "stdout",
     "output_type": "stream",
     "text": [
      "Accuracy using Tuned BC:  97.8 %\n"
     ]
    }
   ],
   "source": [
    "predicted = tuned_estimator.predict(x_test)\n",
    "score = accuracy_score(y_test, predicted)*100\n",
    "print(\"Accuracy using Tuned BC: \", round(score, 1), \"%\")"
   ]
  },
  {
   "cell_type": "code",
   "execution_count": null,
   "metadata": {
    "collapsed": true
   },
   "outputs": [],
   "source": []
  }
 ],
 "metadata": {
  "kernelspec": {
   "display_name": "Python 3",
   "language": "python",
   "name": "python3"
  },
  "language_info": {
   "codemirror_mode": {
    "name": "ipython",
    "version": 3
   },
   "file_extension": ".py",
   "mimetype": "text/x-python",
   "name": "python",
   "nbconvert_exporter": "python",
   "pygments_lexer": "ipython3",
   "version": "3.6.8"
  }
 },
 "nbformat": 4,
 "nbformat_minor": 2
}
